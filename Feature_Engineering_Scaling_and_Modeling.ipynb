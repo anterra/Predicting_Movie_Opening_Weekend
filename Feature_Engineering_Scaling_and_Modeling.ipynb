{
 "cells": [
  {
   "cell_type": "code",
   "execution_count": 111,
   "metadata": {},
   "outputs": [],
   "source": [
    "import pandas as pd\n",
    "import numpy as np\n",
    "import requests\n",
    "from bs4 import BeautifulSoup\n",
    "import random\n",
    "import time\n",
    "import pickle\n",
    "import sys\n",
    "import regex as re\n",
    "import matplotlib.pyplot as plt\n",
    "import seaborn as sns\n",
    "from sklearn.linear_model import LinearRegression as LR\n",
    "from sklearn.model_selection import train_test_split\n",
    "\n",
    "%matplotlib inline\n",
    "sys.setrecursionlimit(50000)"
   ]
  },
  {
   "cell_type": "code",
   "execution_count": 112,
   "metadata": {},
   "outputs": [
    {
     "data": {
      "text/html": [
       "<div>\n",
       "<style scoped>\n",
       "    .dataframe tbody tr th:only-of-type {\n",
       "        vertical-align: middle;\n",
       "    }\n",
       "\n",
       "    .dataframe tbody tr th {\n",
       "        vertical-align: top;\n",
       "    }\n",
       "\n",
       "    .dataframe thead th {\n",
       "        text-align: right;\n",
       "    }\n",
       "</style>\n",
       "<table border=\"1\" class=\"dataframe\">\n",
       "  <thead>\n",
       "    <tr style=\"text-align: right;\">\n",
       "      <th></th>\n",
       "      <th>Release Link</th>\n",
       "      <th>Title</th>\n",
       "      <th>Domestic Gross</th>\n",
       "      <th>Max Theatres</th>\n",
       "      <th>Opening Weekend Gross</th>\n",
       "      <th>Domestic to Opening Gross</th>\n",
       "      <th>Opening Weekend Theatres</th>\n",
       "      <th>Release Date</th>\n",
       "      <th>Studio Link</th>\n",
       "      <th>Studio Name</th>\n",
       "      <th>Title ID</th>\n",
       "      <th>Running Length</th>\n",
       "      <th>Budget</th>\n",
       "      <th>MPAA</th>\n",
       "      <th>Genre</th>\n",
       "      <th>Franchise</th>\n",
       "      <th>Brand</th>\n",
       "      <th>Big_Studio</th>\n",
       "      <th>Release_Season</th>\n",
       "    </tr>\n",
       "  </thead>\n",
       "  <tbody>\n",
       "    <tr>\n",
       "      <th>0</th>\n",
       "      <td>https://www.boxofficemojo.com//release/rl15158...</td>\n",
       "      <td>Iron Man 2</td>\n",
       "      <td>312433331</td>\n",
       "      <td>4390</td>\n",
       "      <td>128122480</td>\n",
       "      <td>0.410</td>\n",
       "      <td>4380</td>\n",
       "      <td>2010-05-07</td>\n",
       "      <td>https://pro.imdb.com/company/co0023400/boxoffi...</td>\n",
       "      <td>Paramount Pictures</td>\n",
       "      <td>tt1228705</td>\n",
       "      <td>124.0</td>\n",
       "      <td>200000000.0</td>\n",
       "      <td>['PG-13']</td>\n",
       "      <td>['Action', 'Adventure', 'Sci-Fi']</td>\n",
       "      <td>1.0</td>\n",
       "      <td>1.0</td>\n",
       "      <td>1</td>\n",
       "      <td>2</td>\n",
       "    </tr>\n",
       "    <tr>\n",
       "      <th>1</th>\n",
       "      <td>https://www.boxofficemojo.com//release/rl12485...</td>\n",
       "      <td>Harry Potter and the Deathly Hallows: Part 1</td>\n",
       "      <td>295983305</td>\n",
       "      <td>4125</td>\n",
       "      <td>125017372</td>\n",
       "      <td>0.422</td>\n",
       "      <td>4125</td>\n",
       "      <td>2010-11-19</td>\n",
       "      <td>https://pro.imdb.com/company/co0002663/boxoffi...</td>\n",
       "      <td>Warner Bros.</td>\n",
       "      <td>tt0926084</td>\n",
       "      <td>146.0</td>\n",
       "      <td>225000000.0</td>\n",
       "      <td>['PG-13']</td>\n",
       "      <td>['Adventure', 'Family', 'Fantasy', 'Mystery']</td>\n",
       "      <td>1.0</td>\n",
       "      <td>0.0</td>\n",
       "      <td>1</td>\n",
       "      <td>2</td>\n",
       "    </tr>\n",
       "    <tr>\n",
       "      <th>2</th>\n",
       "      <td>https://www.boxofficemojo.com//release/rl33932...</td>\n",
       "      <td>Alice in Wonderland</td>\n",
       "      <td>334191110</td>\n",
       "      <td>3739</td>\n",
       "      <td>116101023</td>\n",
       "      <td>0.347</td>\n",
       "      <td>3728</td>\n",
       "      <td>2010-03-05</td>\n",
       "      <td>https://pro.imdb.com/company/co0226183/boxoffi...</td>\n",
       "      <td>Walt Disney Studios Motion Pictures</td>\n",
       "      <td>tt1014759</td>\n",
       "      <td>108.0</td>\n",
       "      <td>200000000.0</td>\n",
       "      <td>['PG']</td>\n",
       "      <td>['Adventure', 'Family', 'Fantasy']</td>\n",
       "      <td>1.0</td>\n",
       "      <td>1.0</td>\n",
       "      <td>1</td>\n",
       "      <td>1</td>\n",
       "    </tr>\n",
       "    <tr>\n",
       "      <th>3</th>\n",
       "      <td>https://www.boxofficemojo.com//release/rl13835...</td>\n",
       "      <td>Toy Story 3</td>\n",
       "      <td>415004880</td>\n",
       "      <td>4028</td>\n",
       "      <td>110307189</td>\n",
       "      <td>0.266</td>\n",
       "      <td>4028</td>\n",
       "      <td>2010-06-18</td>\n",
       "      <td>https://pro.imdb.com/company/co0226183/boxoffi...</td>\n",
       "      <td>Walt Disney Studios Motion Pictures</td>\n",
       "      <td>tt0435761</td>\n",
       "      <td>103.0</td>\n",
       "      <td>200000000.0</td>\n",
       "      <td>NaN</td>\n",
       "      <td>['Adventure', 'Animation', 'Comedy', 'Family',...</td>\n",
       "      <td>1.0</td>\n",
       "      <td>1.0</td>\n",
       "      <td>1</td>\n",
       "      <td>2</td>\n",
       "    </tr>\n",
       "    <tr>\n",
       "      <th>4</th>\n",
       "      <td>https://www.boxofficemojo.com//release/rl57771...</td>\n",
       "      <td>Shrek Forever After</td>\n",
       "      <td>238736787</td>\n",
       "      <td>4386</td>\n",
       "      <td>70838207</td>\n",
       "      <td>0.297</td>\n",
       "      <td>4359</td>\n",
       "      <td>2010-05-21</td>\n",
       "      <td>https://pro.imdb.com/company/co0040938/boxoffi...</td>\n",
       "      <td>DreamWorks</td>\n",
       "      <td>tt0892791</td>\n",
       "      <td>93.0</td>\n",
       "      <td>165000000.0</td>\n",
       "      <td>['PG']</td>\n",
       "      <td>['Adventure', 'Animation', 'Comedy', 'Family',...</td>\n",
       "      <td>1.0</td>\n",
       "      <td>1.0</td>\n",
       "      <td>0</td>\n",
       "      <td>2</td>\n",
       "    </tr>\n",
       "  </tbody>\n",
       "</table>\n",
       "</div>"
      ],
      "text/plain": [
       "                                        Release Link  \\\n",
       "0  https://www.boxofficemojo.com//release/rl15158...   \n",
       "1  https://www.boxofficemojo.com//release/rl12485...   \n",
       "2  https://www.boxofficemojo.com//release/rl33932...   \n",
       "3  https://www.boxofficemojo.com//release/rl13835...   \n",
       "4  https://www.boxofficemojo.com//release/rl57771...   \n",
       "\n",
       "                                          Title  Domestic Gross Max Theatres  \\\n",
       "0                                    Iron Man 2       312433331         4390   \n",
       "1  Harry Potter and the Deathly Hallows: Part 1       295983305         4125   \n",
       "2                           Alice in Wonderland       334191110         3739   \n",
       "3                                   Toy Story 3       415004880         4028   \n",
       "4                           Shrek Forever After       238736787         4386   \n",
       "\n",
       "   Opening Weekend Gross  Domestic to Opening Gross Opening Weekend Theatres  \\\n",
       "0              128122480                      0.410                     4380   \n",
       "1              125017372                      0.422                     4125   \n",
       "2              116101023                      0.347                     3728   \n",
       "3              110307189                      0.266                     4028   \n",
       "4               70838207                      0.297                     4359   \n",
       "\n",
       "  Release Date                                        Studio Link  \\\n",
       "0   2010-05-07  https://pro.imdb.com/company/co0023400/boxoffi...   \n",
       "1   2010-11-19  https://pro.imdb.com/company/co0002663/boxoffi...   \n",
       "2   2010-03-05  https://pro.imdb.com/company/co0226183/boxoffi...   \n",
       "3   2010-06-18  https://pro.imdb.com/company/co0226183/boxoffi...   \n",
       "4   2010-05-21  https://pro.imdb.com/company/co0040938/boxoffi...   \n",
       "\n",
       "                           Studio Name   Title ID  Running Length  \\\n",
       "0                   Paramount Pictures  tt1228705           124.0   \n",
       "1                         Warner Bros.  tt0926084           146.0   \n",
       "2  Walt Disney Studios Motion Pictures  tt1014759           108.0   \n",
       "3  Walt Disney Studios Motion Pictures  tt0435761           103.0   \n",
       "4                           DreamWorks  tt0892791            93.0   \n",
       "\n",
       "        Budget       MPAA                                              Genre  \\\n",
       "0  200000000.0  ['PG-13']                  ['Action', 'Adventure', 'Sci-Fi']   \n",
       "1  225000000.0  ['PG-13']      ['Adventure', 'Family', 'Fantasy', 'Mystery']   \n",
       "2  200000000.0     ['PG']                 ['Adventure', 'Family', 'Fantasy']   \n",
       "3  200000000.0        NaN  ['Adventure', 'Animation', 'Comedy', 'Family',...   \n",
       "4  165000000.0     ['PG']  ['Adventure', 'Animation', 'Comedy', 'Family',...   \n",
       "\n",
       "   Franchise  Brand  Big_Studio  Release_Season  \n",
       "0        1.0    1.0           1               2  \n",
       "1        1.0    0.0           1               2  \n",
       "2        1.0    1.0           1               1  \n",
       "3        1.0    1.0           1               2  \n",
       "4        1.0    1.0           0               2  "
      ]
     },
     "execution_count": 112,
     "metadata": {},
     "output_type": "execute_result"
    }
   ],
   "source": [
    "df_movies = pd.read_csv('Movies_List_v4.csv')\n",
    "df_movies.head()"
   ]
  },
  {
   "cell_type": "code",
   "execution_count": 113,
   "metadata": {},
   "outputs": [
    {
     "data": {
      "text/plain": [
       "Series([], Name: Opening Weekend Theatres, dtype: object)"
      ]
     },
     "execution_count": 113,
     "metadata": {},
     "output_type": "execute_result"
    }
   ],
   "source": [
    "df_movies.loc[df_movies['Opening Weekend Theatres'] == '-','Opening Weekend Theatres'] = np.nan\n",
    "df_movies.loc[df_movies['Opening Weekend Theatres'] == '-','Opening Weekend Theatres']"
   ]
  },
  {
   "cell_type": "code",
   "execution_count": 114,
   "metadata": {},
   "outputs": [
    {
     "data": {
      "text/plain": [
       "Release Link                  object\n",
       "Title                         object\n",
       "Domestic Gross                 int64\n",
       "Max Theatres                  object\n",
       "Opening Weekend Gross          int64\n",
       "Domestic to Opening Gross    float64\n",
       "Opening Weekend Theatres     float64\n",
       "Release Date                  object\n",
       "Studio Link                   object\n",
       "Studio Name                   object\n",
       "Title ID                      object\n",
       "Running Length               float64\n",
       "Budget                       float64\n",
       "MPAA                          object\n",
       "Genre                         object\n",
       "Franchise                    float64\n",
       "Brand                        float64\n",
       "Big_Studio                     int64\n",
       "Release_Season                 int64\n",
       "dtype: object"
      ]
     },
     "execution_count": 114,
     "metadata": {},
     "output_type": "execute_result"
    }
   ],
   "source": [
    "df_movies['Opening Weekend Theatres'] = df_movies['Opening Weekend Theatres'].astype('float64')\n",
    "df_movies.dtypes"
   ]
  },
  {
   "cell_type": "code",
   "execution_count": 115,
   "metadata": {},
   "outputs": [
    {
     "data": {
      "text/plain": [
       "(2346, 19)"
      ]
     },
     "execution_count": 115,
     "metadata": {},
     "output_type": "execute_result"
    }
   ],
   "source": [
    "null_values_mask = ~((df_movies.Budget.isna()) | (df_movies['Opening Weekend Theatres'].isna()))\n",
    "\n",
    "\n",
    "df_for_model = df_movies[null_values_mask].reset_index(drop=True)\n",
    "df_for_model.shape"
   ]
  },
  {
   "cell_type": "code",
   "execution_count": 116,
   "metadata": {},
   "outputs": [],
   "source": [
    "features_list = ['Opening Weekend Theatres','Budget','Franchise','Brand','Big_Studio','Release_Season']\n",
    "target = 'Opening Weekend Gross'\n",
    "\n",
    "\n",
    "X = df_for_model[features_list]\n",
    "y = df_for_model[target]\n",
    "# df_movies.reset_index()"
   ]
  },
  {
   "cell_type": "code",
   "execution_count": 117,
   "metadata": {},
   "outputs": [
    {
     "data": {
      "text/html": [
       "<div>\n",
       "<style scoped>\n",
       "    .dataframe tbody tr th:only-of-type {\n",
       "        vertical-align: middle;\n",
       "    }\n",
       "\n",
       "    .dataframe tbody tr th {\n",
       "        vertical-align: top;\n",
       "    }\n",
       "\n",
       "    .dataframe thead th {\n",
       "        text-align: right;\n",
       "    }\n",
       "</style>\n",
       "<table border=\"1\" class=\"dataframe\">\n",
       "  <thead>\n",
       "    <tr style=\"text-align: right;\">\n",
       "      <th></th>\n",
       "      <th>Opening Weekend Theatres</th>\n",
       "      <th>Budget</th>\n",
       "      <th>Franchise</th>\n",
       "      <th>Brand</th>\n",
       "      <th>Big_Studio</th>\n",
       "      <th>Release_Season</th>\n",
       "    </tr>\n",
       "  </thead>\n",
       "  <tbody>\n",
       "    <tr>\n",
       "      <th>0</th>\n",
       "      <td>4380.0</td>\n",
       "      <td>200000000.0</td>\n",
       "      <td>1.0</td>\n",
       "      <td>1.0</td>\n",
       "      <td>1</td>\n",
       "      <td>2</td>\n",
       "    </tr>\n",
       "    <tr>\n",
       "      <th>1</th>\n",
       "      <td>4125.0</td>\n",
       "      <td>225000000.0</td>\n",
       "      <td>1.0</td>\n",
       "      <td>0.0</td>\n",
       "      <td>1</td>\n",
       "      <td>2</td>\n",
       "    </tr>\n",
       "    <tr>\n",
       "      <th>2</th>\n",
       "      <td>3728.0</td>\n",
       "      <td>200000000.0</td>\n",
       "      <td>1.0</td>\n",
       "      <td>1.0</td>\n",
       "      <td>1</td>\n",
       "      <td>1</td>\n",
       "    </tr>\n",
       "    <tr>\n",
       "      <th>3</th>\n",
       "      <td>4028.0</td>\n",
       "      <td>200000000.0</td>\n",
       "      <td>1.0</td>\n",
       "      <td>1.0</td>\n",
       "      <td>1</td>\n",
       "      <td>2</td>\n",
       "    </tr>\n",
       "    <tr>\n",
       "      <th>4</th>\n",
       "      <td>4359.0</td>\n",
       "      <td>165000000.0</td>\n",
       "      <td>1.0</td>\n",
       "      <td>1.0</td>\n",
       "      <td>0</td>\n",
       "      <td>2</td>\n",
       "    </tr>\n",
       "    <tr>\n",
       "      <th>...</th>\n",
       "      <td>...</td>\n",
       "      <td>...</td>\n",
       "      <td>...</td>\n",
       "      <td>...</td>\n",
       "      <td>...</td>\n",
       "      <td>...</td>\n",
       "    </tr>\n",
       "    <tr>\n",
       "      <th>2341</th>\n",
       "      <td>2.0</td>\n",
       "      <td>200000.0</td>\n",
       "      <td>0.0</td>\n",
       "      <td>0.0</td>\n",
       "      <td>0</td>\n",
       "      <td>1</td>\n",
       "    </tr>\n",
       "    <tr>\n",
       "      <th>2342</th>\n",
       "      <td>1.0</td>\n",
       "      <td>3600000.0</td>\n",
       "      <td>0.0</td>\n",
       "      <td>0.0</td>\n",
       "      <td>0</td>\n",
       "      <td>2</td>\n",
       "    </tr>\n",
       "    <tr>\n",
       "      <th>2343</th>\n",
       "      <td>1.0</td>\n",
       "      <td>85135.0</td>\n",
       "      <td>0.0</td>\n",
       "      <td>0.0</td>\n",
       "      <td>0</td>\n",
       "      <td>2</td>\n",
       "    </tr>\n",
       "    <tr>\n",
       "      <th>2344</th>\n",
       "      <td>1.0</td>\n",
       "      <td>570000.0</td>\n",
       "      <td>0.0</td>\n",
       "      <td>0.0</td>\n",
       "      <td>0</td>\n",
       "      <td>2</td>\n",
       "    </tr>\n",
       "    <tr>\n",
       "      <th>2345</th>\n",
       "      <td>1.0</td>\n",
       "      <td>65000.0</td>\n",
       "      <td>0.0</td>\n",
       "      <td>0.0</td>\n",
       "      <td>0</td>\n",
       "      <td>1</td>\n",
       "    </tr>\n",
       "  </tbody>\n",
       "</table>\n",
       "<p>2346 rows × 6 columns</p>\n",
       "</div>"
      ],
      "text/plain": [
       "      Opening Weekend Theatres       Budget  Franchise  Brand  Big_Studio  \\\n",
       "0                       4380.0  200000000.0        1.0    1.0           1   \n",
       "1                       4125.0  225000000.0        1.0    0.0           1   \n",
       "2                       3728.0  200000000.0        1.0    1.0           1   \n",
       "3                       4028.0  200000000.0        1.0    1.0           1   \n",
       "4                       4359.0  165000000.0        1.0    1.0           0   \n",
       "...                        ...          ...        ...    ...         ...   \n",
       "2341                       2.0     200000.0        0.0    0.0           0   \n",
       "2342                       1.0    3600000.0        0.0    0.0           0   \n",
       "2343                       1.0      85135.0        0.0    0.0           0   \n",
       "2344                       1.0     570000.0        0.0    0.0           0   \n",
       "2345                       1.0      65000.0        0.0    0.0           0   \n",
       "\n",
       "      Release_Season  \n",
       "0                  2  \n",
       "1                  2  \n",
       "2                  1  \n",
       "3                  2  \n",
       "4                  2  \n",
       "...              ...  \n",
       "2341               1  \n",
       "2342               2  \n",
       "2343               2  \n",
       "2344               2  \n",
       "2345               1  \n",
       "\n",
       "[2346 rows x 6 columns]"
      ]
     },
     "execution_count": 117,
     "metadata": {},
     "output_type": "execute_result"
    }
   ],
   "source": [
    "X"
   ]
  },
  {
   "cell_type": "code",
   "execution_count": 118,
   "metadata": {},
   "outputs": [
    {
     "data": {
      "text/plain": [
       "(1876, 6)"
      ]
     },
     "execution_count": 118,
     "metadata": {},
     "output_type": "execute_result"
    }
   ],
   "source": [
    "X_train, X_test, y_train, y_test = train_test_split(X,y,test_size=0.2, random_state=14)\n",
    "X_train.shape"
   ]
  },
  {
   "cell_type": "code",
   "execution_count": 119,
   "metadata": {},
   "outputs": [
    {
     "name": "stdout",
     "output_type": "stream",
     "text": [
      "Train Score: 0.6409565401223405\n",
      "Test Score: 0.6389386303245618\n"
     ]
    }
   ],
   "source": [
    "lr_model = LR()\n",
    "lr_model.fit(X_train,y_train)\n",
    "\n",
    "print(\"Train Score: {}\".format(lr_model.score(X_train,y_train)))\n",
    "print(\"Test Score: {}\".format(lr_model.score(X_test,y_test)))\n"
   ]
  },
  {
   "cell_type": "code",
   "execution_count": 121,
   "metadata": {},
   "outputs": [
    {
     "data": {
      "text/plain": [
       "<AxesSubplot:>"
      ]
     },
     "execution_count": 121,
     "metadata": {},
     "output_type": "execute_result"
    },
    {
     "data": {
      "image/png": "[encoded data removed]",
      "text/plain": [
       "<Figure size 936x504 with 1 Axes>"
      ]
     },
     "metadata": {
      "needs_background": "light"
     },
     "output_type": "display_data"
    }
   ],
   "source": [
    "y_test_pred = lr_model.predict(X_test)\n",
    "\n",
    "plt.figure(figsize=(13,7))\n",
    "sns.scatterplot(data=y_test_pred,label=\"Predicted Values\",alpha=0.4)\n",
    "sns.scatterplot(data=np.array(y_test),label=\"True Values\",alpha=0.7)\n",
    "\n",
    "# y_test"
   ]
  },
  {
   "cell_type": "code",
   "execution_count": 110,
   "metadata": {},
   "outputs": [
    {
     "data": {
      "text/plain": [
       "<AxesSubplot:>"
      ]
     },
     "execution_count": 110,
     "metadata": {},
     "output_type": "execute_result"
    },
    {
     "data": {
      "image/png": "[encoded data removed]",
      "text/plain": [
       "<Figure size 432x288 with 1 Axes>"
      ]
     },
     "metadata": {
      "needs_background": "light"
     },
     "output_type": "display_data"
    }
   ],
   "source": [
    "errors = np.array(y_test) - y_test_pred\n",
    "sns.scatterplot(data=errors)"
   ]
  }
 ],
 "metadata": {
  "kernelspec": {
   "display_name": "Python 3",
   "language": "python",
   "name": "python3"
  },
  "language_info": {
   "codemirror_mode": {
    "name": "ipython",
    "version": 3
   },
   "file_extension": ".py",
   "mimetype": "text/x-python",
   "name": "python",
   "nbconvert_exporter": "python",
   "pygments_lexer": "ipython3",
   "version": "3.8.5"
  }
 },
 "nbformat": 4,
 "nbformat_minor": 4
}
