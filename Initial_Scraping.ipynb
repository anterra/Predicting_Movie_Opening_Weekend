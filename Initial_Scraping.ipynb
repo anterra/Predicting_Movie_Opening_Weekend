{
 "cells": [
  {
   "cell_type": "code",
   "execution_count": 275,
   "metadata": {},
   "outputs": [],
   "source": [
    "import pandas as pd\n",
    "import numpy as np\n",
    "import requests\n",
    "from bs4 import BeautifulSoup\n",
    "import random\n",
    "import time"
   ]
  },
  {
   "cell_type": "code",
   "execution_count": 276,
   "metadata": {},
   "outputs": [
    {
     "name": "stderr",
     "output_type": "stream",
     "text": [
      "IOPub data rate exceeded.\n",
      "The notebook server will temporarily stop sending output\n",
      "to the client in order to avoid crashing it.\n",
      "To change this limit, set the config variable\n",
      "`--NotebookApp.iopub_data_rate_limit`.\n",
      "\n",
      "Current values:\n",
      "NotebookApp.iopub_data_rate_limit=1000000.0 (bytes/sec)\n",
      "NotebookApp.rate_limit_window=3.0 (secs)\n",
      "\n"
     ]
    }
   ],
   "source": [
    "# all_movies_html = dict()\n",
    "# all_movies_clean = dict()\n",
    "# all_errors_clean =dict()\n",
    "\n",
    "# for year in range(2010,2020,1):\n",
    "#     all_movies_html[year] = scrape_movie_list_opening_weekend(year)\n",
    "#     time.sleep(.5+2*random.random())\n",
    "    \n",
    "\n",
    "\n",
    "\n"
   ]
  },
  {
   "cell_type": "code",
   "execution_count": null,
   "metadata": {},
   "outputs": [],
   "source": [
    "print(all_movies_html)    \n",
    "    \n",
    "# for year in range(2010,2020,1):\n",
    "\n",
    "#     movies_2020 = list()\n",
    "#     error_log = list()\n",
    "#     counter = 1\n",
    "\n",
    "#     for table_row in all_tr:\n",
    "\n",
    "#         if table_row.find('td'):\n",
    "\n",
    "#             table_row_data = table_row.find_all('td')\n",
    "\n",
    "#             movie_info_clean = boxofficemojo_HTMLtablerow_to_dict(table_row_data)\n",
    "#             if type(movie_info_clean) == dict:\n",
    "#                 movies_2020.append([movie_info_clean])\n",
    "\n",
    "#             else:\n",
    "#     #             (counter, movie_info_clean[2]['Title'],len(movie_info_clean[2]),list(movie_info_clean[2])[-1])\n",
    "#                 movie_info_clean[2]['Counter'] = counter\n",
    "#                 movie_info_clean[2]['Error Message'] = movie_info_clean[0]\n",
    "#                 error_log.append([movie_info_clean[2]])\n",
    "#             counter += 1\n"
   ]
  },
  {
   "cell_type": "code",
   "execution_count": 299,
   "metadata": {},
   "outputs": [
    {
     "name": "stdout",
     "output_type": "stream",
     "text": [
      "True\n",
      "True\n",
      "True\n",
      "True\n",
      "True\n",
      "True\n",
      "True\n",
      "True\n",
      "True\n",
      "True\n"
     ]
    }
   ],
   "source": [
    "# print([r1,r2[:1000] for r1,r2 in all_movies_html.values()])\n",
    "# print(all_movies_html.values())\n",
    "# print(all_movies_html[2010\n",
    "\n",
    "for r1,r2 in all_movies_html.values():\n",
    "    print(r1)\n",
    "    print(r2[:1])"
   ]
  },
  {
   "cell_type": "code",
   "execution_count": 296,
   "metadata": {},
   "outputs": [
    {
     "name": "stdout",
     "output_type": "stream",
     "text": [
      "True 333\n",
      "True 2\n"
     ]
    }
   ],
   "source": [
    "ff = {2010:(True,[22,333]),2011:(True,[1,2])}\n",
    "\n",
    "# print(ff.values())\n",
    "\n",
    "for r1,r2 in ff.values():\n",
    "    print(r1,r2[1])"
   ]
  },
  {
   "cell_type": "code",
   "execution_count": 252,
   "metadata": {},
   "outputs": [
    {
     "data": {
      "text/plain": [
       "'Bad Boys for Life'"
      ]
     },
     "execution_count": 252,
     "metadata": {},
     "output_type": "execute_result"
    }
   ],
   "source": [
    "soup = BeautifulSoup(response.text, 'html5lib')\n",
    "all_tr = soup.find('div', id='table').find('tbody').find_all('tr')\n",
    "all_tr[1].find_all('td')[1].text"
   ]
  },
  {
   "cell_type": "code",
   "execution_count": 247,
   "metadata": {},
   "outputs": [
    {
     "name": "stdout",
     "output_type": "stream",
     "text": [
      "30\n"
     ]
    }
   ],
   "source": [
    "movies_2020 = list()\n",
    "error_log = list()\n",
    "counter = 1\n",
    "\n",
    "for table_row in all_tr:\n",
    "    \n",
    "    if table_row.find('td'):\n",
    "        \n",
    "        table_row_data = table_row.find_all('td')\n",
    "        \n",
    "        movie_info_clean = HTML_table_row_to_dict(table_row_data)\n",
    "        if type(movie_info_clean) == dict:\n",
    "            movies_2020.append([movie_info_clean])\n",
    "            \n",
    "        else:\n",
    "#             (counter, movie_info_clean[2]['Title'],len(movie_info_clean[2]),list(movie_info_clean[2])[-1])\n",
    "            movie_info_clean[2]['Counter'] = counter\n",
    "            movie_info_clean[2]['Error Message'] = movie_info_clean[0]\n",
    "            error_log.append([movie_info_clean[2]])\n",
    "        counter += 1"
   ]
  },
  {
   "cell_type": "code",
   "execution_count": 242,
   "metadata": {},
   "outputs": [
    {
     "data": {
      "text/plain": [
       "[<td class=\"a-text-right mojo-header-column mojo-truncate mojo-field-type-rank\">141</td>,\n",
       " <td class=\"a-text-left mojo-field-type-release mojo-cell-wide\"><a class=\"a-link-normal\" href=\"/release/rl733053441/?ref_=bo_yld_table_210\">Three Christs</a></td>,\n",
       " <td class=\"a-text-left mojo-field-type-genre hidden\">-</td>,\n",
       " <td class=\"a-text-right mojo-field-type-money hidden\">-</td>,\n",
       " <td class=\"a-text-right mojo-field-type-duration hidden\">-</td>,\n",
       " <td class=\"a-text-right mojo-field-type-money mojo-estimatable\">$36,723</td>,\n",
       " <td class=\"a-text-right mojo-field-type-positive_integer\">31</td>,\n",
       " <td class=\"a-text-right mojo-field-type-money mojo-sort-column\">-</td>,\n",
       " <td class=\"a-text-right mojo-field-type-percent\">-</td>,\n",
       " <td class=\"a-text-right mojo-field-type-positive_integer\">-</td>,\n",
       " <td class=\"a-text-left mojo-field-type-date a-nowrap\">Jan 3</td>,\n",
       " <td class=\"a-text-left mojo-field-type-date a-nowrap\">-</td>,\n",
       " <td class=\"a-text-left mojo-field-type-studio\"><a class=\"a-link-normal\" href=\"https://pro.imdb.com/company/co0015762/boxoffice/?view=releases&amp;ref_=mojo_yld_table_210&amp;rf=mojo_yld_table_210\" rel=\"noopener\" target=\"_blank\">IFC Films<svg class=\"mojo-new-window-svg\" viewBox=\"0 0 32 32\" xmlns=\"http://www.w3.org/2000/svg\">\n",
       "         <path d=\"M24,15.57251l3,3V23.5A3.50424,3.50424,0,0,1,23.5,27H8.5A3.50424,3.50424,0,0,1,5,23.5V8.5A3.50424,3.50424,0,0,1,8.5,5h4.92755l3,3H8.5a.50641.50641,0,0,0-.5.5v15a.50641.50641,0,0,0,.5.5h15a.50641.50641,0,0,0,.5-.5ZM19.81952,8.56372,12.8844,17.75a.49989.49989,0,0,0,.04547.65479l.66534.66528a.49983.49983,0,0,0,.65479.04553l9.18628-6.93518,2.12579,2.12585a.5.5,0,0,0,.84741-.27526l1.48273-9.35108a.50006.50006,0,0,0-.57214-.57214L17.969,5.59058a.5.5,0,0,0-.27526.84741Z\"></path>\n",
       "     </svg></a></td>,\n",
       " <td class=\"a-text-right mojo-field-type-boolean hidden\">false</td>]"
      ]
     },
     "execution_count": 242,
     "metadata": {},
     "output_type": "execute_result"
    }
   ],
   "source": [
    "all_tr[210].find_all('td')"
   ]
  },
  {
   "cell_type": "code",
   "execution_count": 273,
   "metadata": {},
   "outputs": [],
   "source": [
    "def scrape_movie_list_opening_weekend(year):\n",
    "    \"\"\"\n",
    "    Scrapes the list of movies present in a table format in Box Office Mojo\n",
    "    Checks if the required table data was retrieved from the website\n",
    "    Returns the parsed HTML text for the table portion\n",
    "    \n",
    "    Input: Year\n",
    "    Output: Tuple containing True or False. \n",
    "            if True, returns table rows in HTML format containing movie list.\n",
    "            if False, returns Error message or reason for False\n",
    "    \"\"\"\n",
    "     \n",
    "    url = \"https://www.boxofficemojo.com/year/{}/?sort=openingWeekendGross&grossesOption=totalGrosses\"\n",
    "\n",
    "# Gets data from Box Office Mojo. Checks if status code is not 200. If not 200, returns status code & False\n",
    "# If status code 200, parses the text & looks for table, table row & movie title in second row, to confirm\n",
    "# formatting is similar. If not, returns the same, else errors out.\n",
    "\n",
    "    try:\n",
    "        response = requests.get(url.format(year))\n",
    "        if response.status_code != 200:\n",
    "            return (False, \"For year {} Got status code: {}\".format(year,response.status_code))\n",
    "        \n",
    "        else:\n",
    "            soup = BeautifulSoup(response.text, 'html5lib')\n",
    "            \n",
    "            try:\n",
    "                movie_title = soup.find('div', id='table').find('tbody').find_all('tr')[1].find_all('td')[1].text\n",
    "                if movie_title:\n",
    "#                     all_data_rows = soup.find('div', id='table').find('tbody').find_all('tr')[1:]\n",
    "                    return (True, soup.find('div', id='table').find('tbody').find_all('tr')[1:])\n",
    "                else:\n",
    "                    return (False, \"No movie title in second <tr> row. Different HTML formatting\")\n",
    "            except Exception as error_message:\n",
    "                return (False, \"Retrieving table/movie title gave following exception: {}\".format(error_message))\n",
    "            \n",
    "    except Exception as error_message:\n",
    "        return (False, \"Error Somewhere in entire block with message: {}\".format(error_message))"
   ]
  },
  {
   "cell_type": "code",
   "execution_count": null,
   "metadata": {},
   "outputs": [],
   "source": [
    "def HTML_table_row_to_dict(table_row_data):\n",
    "    \"\"\"\n",
    "    Takes in table_row_data for a single table row in HTML syntax for Box Office Mojo \n",
    "    and returns a dictionary with necessary values \n",
    "    \"\"\"\n",
    "    \n",
    "    temp_dict = dict()\n",
    "    try:\n",
    "\n",
    "        temp_dict['Release Link'] = \"https://www.boxofficemojo.com/\"+table_row_data[1].find('a').get('href')\n",
    "        temp_dict['Title'] = table_row_data[1].text\n",
    "        temp_dict['Domestic Gross'] = currency_to_int(table_row_data[5].text.strip('$ ').replace(',',''))\n",
    "        temp_dict['Max Theatres'] = table_row_data[6].text.strip().replace(',','')\n",
    "        temp_dict['Opening Weekend Gross'] = currency_to_int(table_row_data[7].text.strip('$ ').replace(',',''))\n",
    "        temp_dict['Domestic to Opening Gross'] = percent_to_float(table_row_data[8].text)\n",
    "        temp_dict['Opening Weekend Theatres'] = table_row_data[9].text\n",
    "        temp_dict['Release Date'] = table_row_data[10].text + \" \"+str(year)\n",
    "        temp_dict['Studio Link'] = table_row_data[12].find('a').get('href')\n",
    "        temp_dict['Studio Name'] = table_row_data[12].text.strip()\n",
    "    except Exception as ex:\n",
    "        return (ex,\" \", temp_dict)\n",
    "    \n",
    "\n",
    "    #https://www.boxofficemojo.com/\n",
    "    # tag 2 - class=\"mojo-field-type-release\" : get a href release link & title from .text\n",
    "    # tag 6 - class=\"mojo-field-type-money mojo-estimatable\" : .text # Gross\n",
    "    # tag 7 - class\"mojo-field-type-positive_integer\" : .text #max theatres\n",
    "    # tag 8 - mojo-field-type-money mojo-sort-column : .text #opening weekend\n",
    "    # tag 9 - mojo-field-type-percent: .text #%\n",
    "    # tag 10 - mojo-field-type-positive_integer: .text #opening theatres\n",
    "    # tag 11 - mojo-field-type-date a-nowrap: .text :release date\n",
    "    # tag 12 - mojo-field-type-studio: .text & a href link & .text #studio\n",
    "    return temp_dict\n",
    "\n",
    "\n",
    "def currency_to_int(amount):\n",
    "    \"\"\"\n",
    "    Converts a given curreny string to an integer\n",
    "    \n",
    "    Input: amount --> '$123,562,324'\n",
    "    Output: Output --> 123562324\n",
    "    \"\"\"\n",
    "    \n",
    "    return int(amount.strip('$ ').replace(',',''))\n",
    "\n",
    "def percent_to_float(percentage):\n",
    "    \"\"\"\n",
    "    Converts a given string percentage to float\n",
    "    \n",
    "    Input: 90.4%\n",
    "    Ouput: 0.904\n",
    "    \"\"\"\n",
    "    \n",
    "    try:\n",
    "        return float(percentage.strip('%-'))/100\n",
    "    except:\n",
    "        return 0\n"
   ]
  },
  {
   "cell_type": "code",
   "execution_count": null,
   "metadata": {},
   "outputs": [],
   "source": [
    "#NOT SURE IF I WILL NEED THE BELOW\n",
    "\n",
    "\n",
    "def scrape_movies_list(start_year,end_year):\n",
    "    \"\"\"\n",
    "    Scrapes the movies list from box office mojo and returns the relevant info in HTML format\n",
    "    \n",
    "    Input: Start Year --> eg: 2010\n",
    "           End Year --> eg: 2019\n",
    "    Output: Dictionary with keys for each year & value containing HTML format of all movie table rows\"\"\"\n",
    "    for year in range(start_year,end_year+1,1):\n",
    "    return None\n"
   ]
  }
 ],
 "metadata": {
  "kernelspec": {
   "display_name": "Python 3",
   "language": "python",
   "name": "python3"
  },
  "language_info": {
   "codemirror_mode": {
    "name": "ipython",
    "version": 3
   },
   "file_extension": ".py",
   "mimetype": "text/x-python",
   "name": "python",
   "nbconvert_exporter": "python",
   "pygments_lexer": "ipython3",
   "version": "3.8.5"
  }
 },
 "nbformat": 4,
 "nbformat_minor": 4
}
